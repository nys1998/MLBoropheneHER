{
 "cells": [
  {
   "cell_type": "code",
   "execution_count": 1,
   "metadata": {},
   "outputs": [],
   "source": [
    "import numpy as np"
   ]
  },
  {
   "cell_type": "code",
   "execution_count": 17,
   "metadata": {},
   "outputs": [
    {
     "name": "stdout",
     "output_type": "stream",
     "text": [
      "-2.0 -1.0 -0.133289167\n",
      "-2.0 1.0 -0.018740611\n",
      "-1.0 -2.0 -0.074981547\n",
      "-1.0 2.0 0.098819896\n",
      "1.0 -2.0 0.035788577\n",
      "1.0 2.0 0.142101062\n",
      "2.0 -1.0 0.088727627\n",
      "2.0 1.0 0.128847449\n",
      "\n",
      "\n",
      "-2.0 -1.0 0.946090943\n",
      "-2.0 1.0 1.07493651\n",
      "-1.0 -2.0 0.885168053\n",
      "-1.0 2.0 1.112920393\n",
      "1.0 -2.0 0.941188372\n",
      "1.0 2.0 1.125628487\n",
      "2.0 -1.0 1.031302754\n",
      "2.0 1.0 1.112667766\n",
      "\n",
      "\n",
      "-2.0 -1.0 -0.068972908\n",
      "-2.0 1.0 0.077445562\n",
      "-1.0 -2.0 -0.04827654\n",
      "-1.0 2.0 0.202629874\n",
      "1.0 -2.0 0.07512023\n",
      "1.0 2.0 0.263010372\n",
      "2.0 -1.0 0.190338345\n",
      "2.0 1.0 0.261295311\n",
      "\n",
      "\n"
     ]
    }
   ],
   "source": [
    "S = ['S1','S2','S3']\n",
    "for s in S:\n",
    "    data = np.loadtxt(f'{s}.txt')\n",
    "    for line in data:\n",
    "        if np.abs(float(line[0])) == np.abs(float(line[1])) or float(line[0])==0 or float(line[1])==0:\n",
    "            continue\n",
    "        print(line[0],line[1],line[2])\n",
    "    print('\\n')\n"
   ]
  }
 ],
 "metadata": {
  "kernelspec": {
   "display_name": "Python 3",
   "language": "python",
   "name": "python3"
  },
  "language_info": {
   "codemirror_mode": {
    "name": "ipython",
    "version": 3
   },
   "file_extension": ".py",
   "mimetype": "text/x-python",
   "name": "python",
   "nbconvert_exporter": "python",
   "pygments_lexer": "ipython3",
   "version": "3.10.11"
  }
 },
 "nbformat": 4,
 "nbformat_minor": 2
}
